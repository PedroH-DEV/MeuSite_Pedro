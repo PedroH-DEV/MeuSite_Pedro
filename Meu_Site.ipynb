{
  "nbformat": 4,
  "nbformat_minor": 0,
  "metadata": {
    "colab": {
      "provenance": [],
      "authorship_tag": "ABX9TyOTuhsevdABn1xjTcUCI2Ma",
      "include_colab_link": true
    },
    "kernelspec": {
      "name": "python3",
      "display_name": "Python 3"
    },
    "language_info": {
      "name": "python"
    }
  },
  "cells": [
    {
      "cell_type": "markdown",
      "metadata": {
        "id": "view-in-github",
        "colab_type": "text"
      },
      "source": [
        "<a href=\"https://colab.research.google.com/github/PedroH-DEV/MeuSite_Pedro/blob/main/Meu_Site.ipynb\" target=\"_parent\"><img src=\"https://colab.research.google.com/assets/colab-badge.svg\" alt=\"Open In Colab\"/></a>"
      ]
    },
    {
      "cell_type": "code",
      "source": [
        "import streamlit as st\n",
        "from PIL import Image\n",
        "import requests\n",
        "from io import BytesIO\n",
        "import datetime\n",
        "\n",
        "# Configurações gerais do layout e título da página\n",
        "st.set_page_config(\n",
        "    page_title=\"Cadastro de visitantes - UniConstruction\",\n",
        "    page_icon=\"🏠\",\n",
        "    layout=\"wide\"\n",
        ")\n",
        "\n",
        "# Função para carregar imagens a partir de URLs\n",
        "def carregar_imagem(url):\n",
        "    response = requests.get(url)\n",
        "    return Image.open(BytesIO(response.content))\n",
        "\n",
        "# Imagem principal\n",
        "img_url = \"https://www.google.com/url?sa=i&url=https%3A%2F%2Fbraverengenharia.com%2Fmateriais-mais-usados-na-engenharia-civil%2F&psig=AOvVaw0qo36BK05TC5Fsn2KdTTCH&ust=1733081763055000&source=images&cd=vfe&opi=89978449&ved=0CBQQjRxqFwoTCPihofDmhIoDFQAAAAAdAAAAABAE\"\n",
        "img = carregar_imagem(img_url)\n",
        "\n",
        "# Adicionando título e imagem principal\n",
        "st.title(\"👷🏼‍♂️ Quer visitar nossa obra? | Realize seu cadastro:\")\n",
        "st.image(img, use_column_width=True)\n",
        "\n",
        "# Criando campos de cadastro\n",
        "st.header(\"Preencha o formulário abaixo:\")\n",
        "\n",
        "nome_completo = st.text_input(\"Nome completo\")\n",
        "email = st.text_input(\"E-mail\")\n",
        "telefone = st.text_input(\"Telefone\")\n",
        "data_visita = st.date_input(\"Data que gostaria\", datetime.date.today())\n",
        "cargo = st.text_input(\"Cargo\")\n",
        "empresa = st.text_input(\"Empresa\")\n",
        "\n",
        "# Botão de submissão\n",
        "if st.button(\"Enviar Cadastro\"):\n",
        "    st.success(f\"Cadastro realizado com sucesso!\\n\\n\"\n",
        "               f\"Nome completo: {nome_completo}\\n\"\n",
        "               f\"E-mail: {email}\\n\"\n",
        "               f\"Telefone: {telefone}\\n\"\n",
        "               f\"Data da visita: {data_visita}\\n\"\n",
        "               f\"Cargo: {cargo}\\n\"\n",
        "               f\"Empresa: {empresa}\")\n"
      ],
      "metadata": {
        "colab": {
          "base_uri": "https://localhost:8080/",
          "height": 383
        },
        "id": "Mu7F-7_JmNyy",
        "outputId": "78d8c1af-f3e5-4f06-d6bf-9468a8439c46"
      },
      "execution_count": 1,
      "outputs": [
        {
          "output_type": "error",
          "ename": "ModuleNotFoundError",
          "evalue": "No module named 'streamlit'",
          "traceback": [
            "\u001b[0;31m---------------------------------------------------------------------------\u001b[0m",
            "\u001b[0;31mModuleNotFoundError\u001b[0m                       Traceback (most recent call last)",
            "\u001b[0;32m<ipython-input-1-9de55929da3e>\u001b[0m in \u001b[0;36m<cell line: 1>\u001b[0;34m()\u001b[0m\n\u001b[0;32m----> 1\u001b[0;31m \u001b[0;32mimport\u001b[0m \u001b[0mstreamlit\u001b[0m \u001b[0;32mas\u001b[0m \u001b[0mst\u001b[0m\u001b[0;34m\u001b[0m\u001b[0;34m\u001b[0m\u001b[0m\n\u001b[0m\u001b[1;32m      2\u001b[0m \u001b[0;32mfrom\u001b[0m \u001b[0mPIL\u001b[0m \u001b[0;32mimport\u001b[0m \u001b[0mImage\u001b[0m\u001b[0;34m\u001b[0m\u001b[0;34m\u001b[0m\u001b[0m\n\u001b[1;32m      3\u001b[0m \u001b[0;32mimport\u001b[0m \u001b[0mrequests\u001b[0m\u001b[0;34m\u001b[0m\u001b[0;34m\u001b[0m\u001b[0m\n\u001b[1;32m      4\u001b[0m \u001b[0;32mfrom\u001b[0m \u001b[0mio\u001b[0m \u001b[0;32mimport\u001b[0m \u001b[0mBytesIO\u001b[0m\u001b[0;34m\u001b[0m\u001b[0;34m\u001b[0m\u001b[0m\n\u001b[1;32m      5\u001b[0m \u001b[0;32mimport\u001b[0m \u001b[0mdatetime\u001b[0m\u001b[0;34m\u001b[0m\u001b[0;34m\u001b[0m\u001b[0m\n",
            "\u001b[0;31mModuleNotFoundError\u001b[0m: No module named 'streamlit'",
            "",
            "\u001b[0;31m---------------------------------------------------------------------------\u001b[0;32m\nNOTE: If your import is failing due to a missing package, you can\nmanually install dependencies using either !pip or !apt.\n\nTo view examples of installing some common dependencies, click the\n\"Open Examples\" button below.\n\u001b[0;31m---------------------------------------------------------------------------\u001b[0m\n"
          ],
          "errorDetails": {
            "actions": [
              {
                "action": "open_url",
                "actionText": "Open Examples",
                "url": "/notebooks/snippets/importing_libraries.ipynb"
              }
            ]
          }
        }
      ]
    }
  ]
}